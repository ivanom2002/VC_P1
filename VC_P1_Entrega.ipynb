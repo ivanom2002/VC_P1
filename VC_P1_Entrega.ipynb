{
 "cells": [
  {
   "cell_type": "markdown",
   "metadata": {},
   "source": [
    "Paquetes Necesarios"
   ]
  },
  {
   "cell_type": "code",
   "execution_count": 1,
   "metadata": {},
   "outputs": [],
   "source": [
    "import cv2  \n",
    "import numpy as np\n",
    "import matplotlib.pyplot as plt"
   ]
  },
  {
   "cell_type": "markdown",
   "metadata": {},
   "source": [
    "TAREA: Crea una imagen, p.e. 800x800, con la textura del tablero de ajedrez"
   ]
  },
  {
   "cell_type": "code",
   "execution_count": 2,
   "metadata": {},
   "outputs": [
    {
     "data": {
      "image/png": "[encoded data removed]",
      "text/plain": [
       "<Figure size 640x480 with 1 Axes>"
      ]
     },
     "metadata": {},
     "output_type": "display_data"
    }
   ],
   "source": [
    "#Crea una imagen de un único plano, que se interpreta como nivel de gris (0 negro, 255 blanco) DE 800X800\n",
    "tablero = np.zeros((800, 800, 1), dtype = np.uint8)\n",
    "\n",
    "#La variable x nos indicará si estamos en una fila par o impar del tablero\n",
    "x = 0\n",
    "for j in range(0, 800, 100):\n",
    "    for i in range(0, 800, 200): \n",
    "        #Si estamos en una fila par el primer cuadrado de la fila será blaco, sino será negro\n",
    "        if x%2 == 0:\n",
    "            tablero[j:j+100, i: i + 100, 0] = 255\n",
    "        else: \n",
    "            tablero[j:j+100, i + 100: i + 200, 0] = 255\n",
    "    x+=1\n",
    "    \n",
    "#Visualiza con mapa de color gris\n",
    "plt.imshow(tablero, cmap='gray') \n",
    "plt.show()"
   ]
  },
  {
   "cell_type": "markdown",
   "metadata": {},
   "source": [
    "TAREA: Crear una imagen estilo Mondrian (un ejemplo https://www3.gobiernodecanarias.org/medusa/ecoescuela/sa/2017/04/17/descubriendo-a-mondrian/)"
   ]
  },
  {
   "cell_type": "code",
   "execution_count": 3,
   "metadata": {},
   "outputs": [
    {
     "data": {
      "image/png": "[encoded data removed]",
      "text/plain": [
       "<Figure size 640x480 with 1 Axes>"
      ]
     },
     "metadata": {},
     "output_type": "display_data"
    }
   ],
   "source": [
    "#Crea una imagen con tres planos\n",
    "mondrian = np.zeros((200,200,3), dtype = np.uint8)\n",
    "\n",
    "#Ponemos el fondo de la imagen en blanco \n",
    "mondrian[:,:,:] = 255 \n",
    "\n",
    "#Lineas negras en vertical \n",
    "mondrian[:, 23:27, :] = 0\n",
    "mondrian[:125, 52:56, :] = 0\n",
    "mondrian[177:, 52:56, :] = 0\n",
    "mondrian[:, 100:104, :] = 0\n",
    "mondrian[:, 150:154, :] = 0\n",
    "\n",
    "#Lineas negras en horizontal\n",
    "mondrian[48:52, :, : ] = 0\n",
    "mondrian[125:129, :150, : ] = 0\n",
    "mondrian[173:177, 27:, : ] = 0\n",
    "\n",
    "#Rectángulos rojos\n",
    "mondrian[52:125, 56:100] = [255, 0, 0]\n",
    "mondrian[0:48, 154:] = [255, 0, 0]\n",
    "mondrian[177:, 154:] = [255, 0, 0]\n",
    "mondrian[177:, 27:52] = [255, 0, 0]\n",
    "\n",
    "#Rectángulos azules\n",
    "mondrian[129:, 0:23] = [0, 0, 255]\n",
    "mondrian[177:, 56:100] = [0, 0, 255]\n",
    "mondrian[52:125, 104:150] = [0, 0, 255]\n",
    "mondrian[0:48, 0:23] = [0, 0, 255]\n",
    "\n",
    "#Rectángulos amarillos\n",
    "mondrian[0:48, 104:150] = [255, 255, 0]\n",
    "mondrian[177:, 104:150] = [255, 255, 0]\n",
    "mondrian[52:125, :23] = [255, 255, 0]\n",
    "mondrian[52:173, 154:] = [255, 255, 0]\n",
    "\n",
    "#Mondrian\n",
    "plt.imshow(mondrian) \n",
    "plt.show()"
   ]
  },
  {
   "cell_type": "markdown",
   "metadata": {},
   "source": [
    "TAREA: Resuelve una de las tareas previas (a elegir) con las funciones de dibujo de OpenCV"
   ]
  },
  {
   "cell_type": "code",
   "execution_count": null,
   "metadata": {},
   "outputs": [],
   "source": []
  },
  {
   "cell_type": "markdown",
   "metadata": {},
   "source": [
    "TAREA: Modifica de alguna forma los valores de un plano de la imagen"
   ]
  },
  {
   "cell_type": "code",
   "execution_count": 4,
   "metadata": {},
   "outputs": [],
   "source": [
    "vid = cv2.VideoCapture(0)\n",
    "  \n",
    "while(True):      \n",
    "    # fotograma a fotograma\n",
    "    ret, frame = vid.read()\n",
    "  \n",
    "    if ret:  \n",
    "\n",
    "        #Modificamos el plano azúl de la imagen asignando 255 a cada píxel\n",
    "        frame[:,:,0] = 255\n",
    "\n",
    "        # Muestra fotograma\n",
    "        cv2.imshow('Vid', frame)\n",
    "    \n",
    "    # Detenemos pulsado ESC\n",
    "    if cv2.waitKey(20) == 27:\n",
    "        break\n",
    "  \n",
    "# Libera el objeto de captura\n",
    "vid.release()\n",
    "# Destruye ventanas\n",
    "cv2.destroyAllWindows()"
   ]
  },
  {
   "cell_type": "markdown",
   "metadata": {},
   "source": [
    "TAREA: Pintar círculos en las posiciones del píxel más claro y oscuro de la imagen ¿Si quisieras hacerlo sobre la zona 8x8 más clara/oscura?"
   ]
  },
  {
   "cell_type": "code",
   "execution_count": 5,
   "metadata": {},
   "outputs": [],
   "source": [
    "vid = cv2.VideoCapture(0)\n",
    "  \n",
    "while(True):      \n",
    "    # fotograma a fotograma\n",
    "    ret, frame = vid.read()\n",
    "  \n",
    "    if ret:  \n",
    "\n",
    "        # Pasamos cada frame a escala de grises\n",
    "        gray_frame = cv2.cvtColor(frame, cv2.COLOR_BGR2GRAY)\n",
    "\n",
    "        # Encontramos las cordenadas con valores minimos y maximos\n",
    "        min_value, max_value, min_loc, max_loc = cv2.minMaxLoc(gray_frame)\n",
    "\n",
    "        # Pintamos un círculo negro en el pixel con menor valor\n",
    "        cv2.circle(frame, min_loc, 20, (5,6,8), thickness=7)\n",
    "\n",
    "        # Pintamos un círculo blanco en el pixel con mayor valor\n",
    "        cv2.circle(frame, max_loc, 20, (245,248,248), thickness=7)\n",
    "\n",
    "        # Muestra fotograma\n",
    "        cv2.imshow('Vid', frame)\n",
    "    \n",
    "    # Detenemos pulsado ESC\n",
    "    if cv2.waitKey(20) == 27:\n",
    "        break\n",
    "  \n",
    "# Libera el objeto de captura\n",
    "vid.release()\n",
    "# Destruye ventanas\n",
    "cv2.destroyAllWindows()"
   ]
  },
  {
   "cell_type": "markdown",
   "metadata": {},
   "source": [
    "TAREA: Haz tu propuesta pop art"
   ]
  },
  {
   "cell_type": "code",
   "execution_count": 6,
   "metadata": {},
   "outputs": [],
   "source": [
    "vid = cv2.VideoCapture(0)\n",
    "\n",
    "frames = []\n",
    "\n",
    "num_previous_frames = 10\n",
    "\n",
    "while(True):      \n",
    "\n",
    "    # Fotograma a fotograma\n",
    "    ret, frame = vid.read()\n",
    "\n",
    "    if ret:\n",
    "\n",
    "        frame = cv2.cvtColor(frame, cv2.COLOR_BGR2GRAY)\n",
    "\n",
    "        # Se guarda el frame actual en la lista frames\n",
    "        frames.append(frame)\n",
    "\n",
    "        # Nos aseguramos de mantener sólo los 10 últimos\n",
    "        if len(frames) > num_previous_frames:\n",
    "            frames.pop(0) \n",
    "\n",
    "        # Creamos un canvas en el que mostraremos la acumulación de los frames\n",
    "        blended_frame = np.zeros_like(frame)\n",
    "\n",
    "        # Juntamos los distintos frames de la lista frame en uno sólo mediante la operación or\n",
    "        for i in frames:\n",
    "            blended_frame |= i \n",
    "\n",
    "        # Muestra fotograma\n",
    "        cv2.imshow('Vid', blended_frame)\n",
    "\n",
    "    # Detenemos pulsado ESC\n",
    "    if cv2.waitKey(20) == 27:\n",
    "        break \n",
    "\n",
    "# Libera el objeto de captura\n",
    "vid.release()\n",
    "\n",
    "# Destruye ventanas\n",
    "cv2.destroyAllWindows()"
   ]
  }
 ],
 "metadata": {
  "kernelspec": {
   "display_name": "VC_P1",
   "language": "python",
   "name": "python3"
  },
  "language_info": {
   "codemirror_mode": {
    "name": "ipython",
    "version": 3
   },
   "file_extension": ".py",
   "mimetype": "text/x-python",
   "name": "python",
   "nbconvert_exporter": "python",
   "pygments_lexer": "ipython3",
   "version": "3.11.5"
  },
  "orig_nbformat": 4
 },
 "nbformat": 4,
 "nbformat_minor": 2
}
